{
 "cells": [
  {
   "cell_type": "code",
   "execution_count": 25,
   "id": "6817e63e-6300-4ad9-93c9-fb6dd3cd5ae4",
   "metadata": {},
   "outputs": [],
   "source": [
    "import pandas as pd\n",
    "import numpy as np\n",
    "import matplotlib.pyplot as plt\n",
    "import seaborn as sns\n",
    "from sklearn.preprocessing import StandardScaler\n",
    "from sklearn.metrics.pairwise import cosine_similarity"
   ]
  },
  {
   "cell_type": "code",
   "execution_count": 27,
   "id": "f6259140-1f16-46c2-af37-886cc8714fcd",
   "metadata": {},
   "outputs": [],
   "source": [
    "# Load datasets\n",
    "customers = pd.read_csv(r\"C:\\Users\\shash\\OneDrive\\Desktop\\shashank\\Customers.csv\")\n",
    "products = pd.read_csv(r\"C:\\Users\\shash\\OneDrive\\Desktop\\shashank\\Products.csv\")\n",
    "transactions = pd.read_csv(r\"C:\\Users\\shash\\OneDrive\\Desktop\\shashank\\Transactions.csv\")"
   ]
  },
  {
   "cell_type": "code",
   "execution_count": 29,
   "id": "88952daf-6cf2-4666-a2e8-862bc81d5738",
   "metadata": {},
   "outputs": [],
   "source": [
    "customers['SignupDate'] = pd.to_datetime(customers['SignupDate'])\n",
    "transactions['TransactionDate'] = pd.to_datetime(transactions['TransactionDate'])"
   ]
  },
  {
   "cell_type": "code",
   "execution_count": 31,
   "id": "4c230c76-29bd-40ff-851a-4d3b225ef520",
   "metadata": {},
   "outputs": [],
   "source": [
    "merged_df = transactions.merge(customers, on='CustomerID', how='left')\n",
    "merged_df = merged_df.merge(products, on='ProductID', how='left')\n"
   ]
  },
  {
   "cell_type": "code",
   "execution_count": 33,
   "id": "78a3f65b-734b-498b-9260-09b0ca4cfe25",
   "metadata": {},
   "outputs": [],
   "source": [
    "customer_features = merged_df.groupby('CustomerID').agg({\n",
    "    'TotalValue': 'sum',\n",
    "    'TransactionID': 'count',\n",
    "    'TransactionDate': lambda x: (x.max() - x.min()).days,\n",
    "    'ProductID': pd.Series.mode\n",
    "}).rename(columns={'TotalValue': 'Total_Spend', 'TransactionID': 'Num_Transactions', 'TransactionDate': 'Recency', 'ProductID': 'Favorite_Product'})\n"
   ]
  },
  {
   "cell_type": "code",
   "execution_count": 35,
   "id": "4109ce67-9c4f-4ac0-9f88-2031cdaf886e",
   "metadata": {},
   "outputs": [],
   "source": [
    "scaler = StandardScaler()\n",
    "scaled_features = scaler.fit_transform(customer_features[['Total_Spend', 'Num_Transactions', 'Recency']])"
   ]
  },
  {
   "cell_type": "code",
   "execution_count": 39,
   "id": "f537fd5d-fa62-40d6-bb57-aa235822b7fc",
   "metadata": {},
   "outputs": [],
   "source": [
    "similarity_matrix = cosine_similarity(scaled_features)"
   ]
  },
  {
   "cell_type": "code",
   "execution_count": 41,
   "id": "8f93d3ee-d5ea-4759-8b33-283fd8f5cbd4",
   "metadata": {},
   "outputs": [],
   "source": [
    "customer_ids = customer_features.index[:20]\n",
    "lookalikes = {}\n",
    "for idx, cust_id in enumerate(customer_ids):\n",
    "    similar_indices = np.argsort(similarity_matrix[idx])[::-1][1:4]\n",
    "    lookalikes[cust_id] = [(customer_features.index[i], similarity_matrix[idx][i]) for i in similar_indices]\n"
   ]
  },
  {
   "cell_type": "code",
   "execution_count": 45,
   "id": "65ca7990-4910-48fa-bdf1-5f32b9c1a981",
   "metadata": {},
   "outputs": [],
   "source": [
    "# Save results to CSV\n",
    "lookalike_df = pd.DataFrame(list(lookalikes.items()), columns=['CustomerID', 'Lookalikes'])\n",
    "lookalike_df.to_csv(\"Shashank_R_Lookalike.csv\", index=False)\n"
   ]
  },
  {
   "cell_type": "code",
   "execution_count": null,
   "id": "3a8cac50-ca54-4c79-b0a1-afe43cb2c2fc",
   "metadata": {},
   "outputs": [],
   "source": []
  }
 ],
 "metadata": {
  "kernelspec": {
   "display_name": "Python 3 (ipykernel)",
   "language": "python",
   "name": "python3"
  },
  "language_info": {
   "codemirror_mode": {
    "name": "ipython",
    "version": 3
   },
   "file_extension": ".py",
   "mimetype": "text/x-python",
   "name": "python",
   "nbconvert_exporter": "python",
   "pygments_lexer": "ipython3",
   "version": "3.12.4"
  }
 },
 "nbformat": 4,
 "nbformat_minor": 5
}
